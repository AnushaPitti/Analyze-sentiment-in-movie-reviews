{
 "cells": [
  {
   "cell_type": "raw",
   "id": "4e1c80c8-1ebe-4e13-8482-943c58537f85",
   "metadata": {},
   "source": [
    "Project ID - #CC69849\n",
    "Project Title - Analyze sentiment in movie reviews"
   ]
  },
  {
   "cell_type": "markdown",
   "id": "bfa60acf-9a8f-43c4-b7d0-f5e68fdf5ceb",
   "metadata": {},
   "source": [
    "## Project Details\n",
    "#### Apply K-Means clustering to segment customers based on their purchase behavior.\n",
    "#### Description - Use Natural Language Processing (NLP) techniques to preprocess text data and build a sentiment analysis model.\n",
    "#### Technologies-Python, Pandas, NLTK or SpaCy."
   ]
  },
  {
   "cell_type": "code",
   "execution_count": 14,
   "id": "d420ba8b-d0eb-4c6a-858f-f2ce71b9bf44",
   "metadata": {},
   "outputs": [
    {
     "name": "stderr",
     "output_type": "stream",
     "text": [
      "[nltk_data] Downloading package stopwords to\n",
      "[nltk_data]     C:\\Users\\HP\\AppData\\Roaming\\nltk_data...\n",
      "[nltk_data]   Package stopwords is already up-to-date!\n"
     ]
    },
    {
     "data": {
      "text/plain": [
       "True"
      ]
     },
     "execution_count": 14,
     "metadata": {},
     "output_type": "execute_result"
    }
   ],
   "source": [
    "# Step 1: Import Libraries\n",
    "import pandas as pd\n",
    "import numpy as np\n",
    "import nltk\n",
    "from nltk.corpus import stopwords\n",
    "from nltk.stem import PorterStemmer\n",
    "from sklearn.feature_extraction.text import CountVectorizer\n",
    "from sklearn.model_selection import train_test_split\n",
    "from sklearn.naive_bayes import MultinomialNB\n",
    "from sklearn.metrics import accuracy_score, classification_report, confusion_matrix\n",
    "import matplotlib.pyplot as plt\n",
    "import seaborn as sns\n",
    "from io import StringIO\n",
    "\n",
    "import warnings\n",
    "warnings.filterwarnings(\"ignore\")\n",
    "\n",
    "\n",
    "# Download stopwords\n",
    "nltk.download('stopwords')\n"
   ]
  },
  {
   "cell_type": "code",
   "execution_count": 15,
   "id": "eeee2f7d-06b1-4ad6-a274-17c15ff23c49",
   "metadata": {},
   "outputs": [
    {
     "data": {
      "text/html": [
       "<div>\n",
       "<style scoped>\n",
       "    .dataframe tbody tr th:only-of-type {\n",
       "        vertical-align: middle;\n",
       "    }\n",
       "\n",
       "    .dataframe tbody tr th {\n",
       "        vertical-align: top;\n",
       "    }\n",
       "\n",
       "    .dataframe thead th {\n",
       "        text-align: right;\n",
       "    }\n",
       "</style>\n",
       "<table border=\"1\" class=\"dataframe\">\n",
       "  <thead>\n",
       "    <tr style=\"text-align: right;\">\n",
       "      <th></th>\n",
       "      <th>review</th>\n",
       "      <th>sentiment</th>\n",
       "    </tr>\n",
       "  </thead>\n",
       "  <tbody>\n",
       "    <tr>\n",
       "      <th>0</th>\n",
       "      <td>This movie was absolutely fantastic! I loved e...</td>\n",
       "      <td>positive</td>\n",
       "    </tr>\n",
       "    <tr>\n",
       "      <th>1</th>\n",
       "      <td>It was a boring movie. Not recommended.</td>\n",
       "      <td>negative</td>\n",
       "    </tr>\n",
       "    <tr>\n",
       "      <th>2</th>\n",
       "      <td>An excellent performance by the actors.</td>\n",
       "      <td>positive</td>\n",
       "    </tr>\n",
       "    <tr>\n",
       "      <th>3</th>\n",
       "      <td>Terrible plot and poor direction. Waste of time.</td>\n",
       "      <td>negative</td>\n",
       "    </tr>\n",
       "    <tr>\n",
       "      <th>4</th>\n",
       "      <td>Just okay. Some good moments but overall average.</td>\n",
       "      <td>negative</td>\n",
       "    </tr>\n",
       "  </tbody>\n",
       "</table>\n",
       "</div>"
      ],
      "text/plain": [
       "                                              review sentiment\n",
       "0  This movie was absolutely fantastic! I loved e...  positive\n",
       "1            It was a boring movie. Not recommended.  negative\n",
       "2            An excellent performance by the actors.  positive\n",
       "3   Terrible plot and poor direction. Waste of time.  negative\n",
       "4  Just okay. Some good moments but overall average.  negative"
      ]
     },
     "execution_count": 15,
     "metadata": {},
     "output_type": "execute_result"
    }
   ],
   "source": [
    "# Step 2: Create Sample Dataset\n",
    "data = StringIO(\"\"\"\n",
    "review,sentiment\n",
    "\"This movie was absolutely fantastic! I loved every minute.\",positive\n",
    "\"It was a boring movie. Not recommended.\",negative\n",
    "\"An excellent performance by the actors.\",positive\n",
    "\"Terrible plot and poor direction. Waste of time.\",negative\n",
    "\"Just okay. Some good moments but overall average.\",negative\n",
    "\"A masterpiece. Truly inspiring and emotional.\",positive\n",
    "\"\"\")\n",
    "\n",
    "df = pd.read_csv(data)\n",
    "df.head()\n"
   ]
  },
  {
   "cell_type": "code",
   "execution_count": 16,
   "id": "13cb4a10-9048-4439-bcf9-a32b89724642",
   "metadata": {},
   "outputs": [
    {
     "data": {
      "text/plain": [
       "0    1\n",
       "1    0\n",
       "2    1\n",
       "3    0\n",
       "4    0\n",
       "5    1\n",
       "Name: label, dtype: int64"
      ]
     },
     "execution_count": 16,
     "metadata": {},
     "output_type": "execute_result"
    }
   ],
   "source": [
    "# Step 3: Preprocessing\n",
    "stop_words = set(stopwords.words('english'))\n",
    "stemmer = PorterStemmer()\n",
    "\n",
    "def preprocess(text):\n",
    "    words = text.lower().split()\n",
    "    words = [stemmer.stem(word) for word in words if word.isalpha() and word not in stop_words]\n",
    "    return \" \".join(words)\n",
    "\n",
    "df['cleaned_review'] = df['review'].apply(preprocess)\n",
    "df['label'] = df['sentiment'].map({'positive': 1, 'negative': 0})\n",
    "df['label']"
   ]
  },
  {
   "cell_type": "code",
   "execution_count": 17,
   "id": "e8fe164e-fa24-4490-b91e-ec7f169c3c19",
   "metadata": {},
   "outputs": [
    {
     "data": {
      "text/plain": [
       "0    1\n",
       "1    0\n",
       "2    1\n",
       "3    0\n",
       "4    0\n",
       "5    1\n",
       "Name: label, dtype: int64"
      ]
     },
     "execution_count": 17,
     "metadata": {},
     "output_type": "execute_result"
    }
   ],
   "source": [
    "# Step 4: Feature Extraction\n",
    "vectorizer = CountVectorizer()\n",
    "X = vectorizer.fit_transform(df['cleaned_review'])\n",
    "y = df['label']\n",
    "y"
   ]
  },
  {
   "cell_type": "code",
   "execution_count": 18,
   "id": "e1869548-c19d-4b12-8068-6842c8a767d4",
   "metadata": {},
   "outputs": [
    {
     "data": {
      "text/plain": [
       "array([1, 1], dtype=int64)"
      ]
     },
     "execution_count": 18,
     "metadata": {},
     "output_type": "execute_result"
    }
   ],
   "source": [
    "# Step 5: Train-Test Split and Model Training\n",
    "X_train, X_test, y_train, y_test = train_test_split(X, y, test_size=0.3, random_state=42)\n",
    "\n",
    "model = MultinomialNB()\n",
    "model.fit(X_train, y_train)\n",
    "\n",
    "y_pred = model.predict(X_test)\n",
    "y_pred"
   ]
  },
  {
   "cell_type": "code",
   "execution_count": 19,
   "id": "92bc02c0-9adf-49c0-ab25-7fb7a5ebff6c",
   "metadata": {},
   "outputs": [
    {
     "name": "stdout",
     "output_type": "stream",
     "text": [
      "Accuracy: 0.5\n",
      "\n",
      "Classification Report:\n",
      "               precision    recall  f1-score   support\n",
      "\n",
      "           0       0.00      0.00      0.00         1\n",
      "           1       0.50      1.00      0.67         1\n",
      "\n",
      "    accuracy                           0.50         2\n",
      "   macro avg       0.25      0.50      0.33         2\n",
      "weighted avg       0.25      0.50      0.33         2\n",
      "\n"
     ]
    },
    {
     "data": {
      "image/png": "[encoded data removed]",
      "text/plain": [
       "<Figure size 640x480 with 2 Axes>"
      ]
     },
     "metadata": {},
     "output_type": "display_data"
    }
   ],
   "source": [
    "# Step 6: Evaluation\n",
    "print(\"Accuracy:\", accuracy_score(y_test, y_pred))\n",
    "print(\"\\nClassification Report:\\n\", classification_report(y_test, y_pred))\n",
    "\n",
    "# Confusion Matrix\n",
    "cm = confusion_matrix(y_test, y_pred)\n",
    "sns.heatmap(cm, annot=True, fmt='d', cmap='Blues')\n",
    "plt.xlabel('Predicted')\n",
    "plt.ylabel('Actual')\n",
    "plt.title('Confusion Matrix')\n",
    "plt.show()\n"
   ]
  },
  {
   "cell_type": "raw",
   "id": "eb4fb4b8-8240-411e-9bd9-3f205bee17c1",
   "metadata": {},
   "source": [
    "Summary:\n",
    "The project uses Natural Language Processing (NLP) to analyze movie review sentiments (positive or negative).\n",
    "\n",
    "A small in-memory dataset with labeled reviews is used for demonstration.\n",
    "\n",
    "Reviews are cleaned using stemming, lowercasing, and stopword removal via NLTK.\n",
    "\n",
    "The cleaned text is vectorized into numeric format using CountVectorizer.\n",
    "\n",
    "Labels are encoded: \"positive\" as 1 and \"negative\" as 0.\n",
    "\n",
    "The dataset is split into training and testing sets.\n",
    "\n",
    "A Naive Bayes classifier is trained to learn from the data.\n",
    "\n",
    "Predictions are made on the test set, and accuracy is evaluated.\n",
    "\n",
    "A confusion matrix and classification report are used to assess performance.\n",
    "\n",
    "This project demonstrates basic text preprocessing and sentiment classification using Python.\n",
    "\n"
   ]
  },
  {
   "cell_type": "code",
   "execution_count": null,
   "id": "c071a12c-4154-4c80-a152-5d4b1e844a4b",
   "metadata": {},
   "outputs": [],
   "source": []
  }
 ],
 "metadata": {
  "kernelspec": {
   "display_name": "Python 3 (ipykernel)",
   "language": "python",
   "name": "python3"
  },
  "language_info": {
   "codemirror_mode": {
    "name": "ipython",
    "version": 3
   },
   "file_extension": ".py",
   "mimetype": "text/x-python",
   "name": "python",
   "nbconvert_exporter": "python",
   "pygments_lexer": "ipython3",
   "version": "3.12.7"
  }
 },
 "nbformat": 4,
 "nbformat_minor": 5
}
